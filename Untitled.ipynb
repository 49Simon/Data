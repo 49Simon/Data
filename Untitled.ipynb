{
 "cells": [
  {
   "cell_type": "markdown",
   "id": "36564152",
   "metadata": {},
   "source": [
    "import stuff"
   ]
  },
  {
   "cell_type": "code",
   "execution_count": 1,
   "id": "d328c426",
   "metadata": {},
   "outputs": [],
   "source": [
    "import numpy as np\n",
    "from tensorflow import keras\n",
    "import os\n",
    "import matplotlib as mp\n",
    "import matplotlib.pyplot as plt\n",
    "import pandas as pd"
   ]
  },
  {
   "cell_type": "markdown",
   "id": "56e23182",
   "metadata": {},
   "source": [
    "read the files"
   ]
  },
  {
   "cell_type": "code",
   "execution_count": 19,
   "id": "f1fc8c05",
   "metadata": {},
   "outputs": [],
   "source": [
    "testdata1 = pd.read_csv(\"data.csv\")\n",
    "testdata2 = pd.read_csv(\"data1.csv\")\n",
    "label = testdata1['Connected'] \n",
    "traindata = testdata1[['linkQuality','neighborLinkQuality','RSSI value', 'AVG RSSI value','Connected']]\n",
    "\n",
    "testdata = testdata2[['linkQuality','neighborLinkQuality','RSSI value', 'AVG RSSI value','Connected']]\n",
    "testlabel = testdata2['Connected'] \n",
    "#traindata contains the LQ,NLQ,RSSI,AVERSSI\n",
    "\n",
    "\n"
   ]
  },
  {
   "cell_type": "markdown",
   "id": "b82e4d4d",
   "metadata": {},
   "source": [
    "Try to put them in a graph"
   ]
  },
  {
   "cell_type": "code",
   "execution_count": 4,
   "id": "087b49c1",
   "metadata": {},
   "outputs": [
    {
     "data": {
      "text/plain": [
       "<matplotlib.legend.Legend at 0x179a92597b0>"
      ]
     },
     "execution_count": 4,
     "metadata": {},
     "output_type": "execute_result"
    },
    {
     "data": {
      "image/png": "[encoded data removed]",
      "text/plain": [
       "<Figure size 432x288 with 1 Axes>"
      ]
     },
     "metadata": {
      "needs_background": "light"
     },
     "output_type": "display_data"
    },
    {
     "data": {
      "image/png": "[encoded data removed]",
      "text/plain": [
       "<Figure size 432x288 with 1 Axes>"
      ]
     },
     "metadata": {
      "needs_background": "light"
     },
     "output_type": "display_data"
    }
   ],
   "source": [
    "fig, ax = plt.subplots()\n",
    "ax.set_xlabel(\"Time\")\n",
    "ax.plot(testdata['systemTime']-testdata['systemTime'][0],testdata['linkCost'],label=\"LC\")\n",
    "#ax.plot(testdata['systemTime']-testdata['systemTime'][0],traindata['neighborLinkQuality'],label=\"NLQ\")\n",
    "#ax.scatter(traindata['neighborLinkQuality'],label, label=\"NLQ\")\n",
    "ax.legend()\n",
    "fig, asignal = plt.subplots()\n",
    "asignal.set_xlabel(\"Time\")\n",
    "asignal.plot(testdata['systemTime']-testdata['systemTime'][0],traindata['RSSI value']/(-85),label=\"RSSI\")\n",
    "asignal.plot(testdata['systemTime']-testdata['systemTime'][0],traindata['AVG RSSI value']/(-85),label=\"AVG RSSI\")\n",
    "asignal.legend()\n",
    "\n"
   ]
  },
  {
   "cell_type": "markdown",
   "id": "252a63e8",
   "metadata": {},
   "source": [
    "Getting the statistics"
   ]
  },
  {
   "cell_type": "code",
   "execution_count": 20,
   "id": "430262ce",
   "metadata": {},
   "outputs": [
    {
     "name": "stdout",
     "output_type": "stream",
     "text": [
      "                     count       mean        std     min     25%   50%    75%  \\\n",
      "linkQuality           30.0   0.433333   0.504007   0.000   0.000   0.0   1.00   \n",
      "neighborLinkQuality   30.0   0.699333   0.432476   0.098   0.098   1.0   1.00   \n",
      "RSSI value            30.0 -69.100000  20.213260 -85.000 -85.000 -81.0 -48.00   \n",
      "AVG RSSI value        30.0 -56.933333  14.633295 -70.000 -70.000 -64.0 -41.25   \n",
      "Connected             30.0   0.933333   0.253708   0.000   1.000   1.0   1.00   \n",
      "\n",
      "                      max  \n",
      "linkQuality           1.0  \n",
      "neighborLinkQuality   1.0  \n",
      "RSSI value          -28.0  \n",
      "AVG RSSI value      -30.0  \n",
      "Connected             1.0  \n",
      "                     count       mean       std     min   25%   50%   75%  \\\n",
      "linkQuality           49.0   1.000000  0.000000   1.000   1.0   1.0   1.0   \n",
      "neighborLinkQuality   49.0   0.991673  0.040783   0.796   1.0   1.0   1.0   \n",
      "RSSI value            49.0 -57.387755  7.620740 -73.000 -60.0 -58.0 -54.0   \n",
      "AVG RSSI value        49.0 -55.897959  7.858766 -69.000 -60.0 -57.0 -55.0   \n",
      "Connected             49.0   1.000000  0.000000   1.000   1.0   1.0   1.0   \n",
      "\n",
      "                      max  \n",
      "linkQuality           1.0  \n",
      "neighborLinkQuality   1.0  \n",
      "RSSI value          -26.0  \n",
      "AVG RSSI value      -27.0  \n",
      "Connected             1.0  \n"
     ]
    }
   ],
   "source": [
    "stats = traindata.describe().transpose()\n",
    "print(stats)\n",
    "stats2 = testdata.describe().transpose()\n",
    "print(stats2)"
   ]
  },
  {
   "cell_type": "markdown",
   "id": "f6ed8b1d",
   "metadata": {},
   "source": [
    "use rolling function on pandas to window the data"
   ]
  },
  {
   "cell_type": "code",
   "execution_count": 6,
   "id": "ee9f8fc3",
   "metadata": {
    "scrolled": true
   },
   "outputs": [
    {
     "name": "stdout",
     "output_type": "stream",
     "text": [
      "(1, 4)\n",
      "(2, 4)\n",
      "(3, 4)\n",
      "(4, 4)\n",
      "(5, 4)\n",
      "(6, 4)\n",
      "(7, 4)\n",
      "(8, 4)\n",
      "(9, 4)\n",
      "(10, 4)\n",
      "(10, 4)\n",
      "(10, 4)\n",
      "(10, 4)\n",
      "(10, 4)\n",
      "(10, 4)\n",
      "(10, 4)\n",
      "(10, 4)\n",
      "(10, 4)\n",
      "(10, 4)\n",
      "(10, 4)\n",
      "(10, 4)\n",
      "(10, 4)\n",
      "(10, 4)\n",
      "(10, 4)\n",
      "(10, 4)\n",
      "(10, 4)\n",
      "(10, 4)\n",
      "(10, 4)\n",
      "(10, 4)\n",
      "(10, 4)\n"
     ]
    }
   ],
   "source": [
    "traindata\n",
    "for window in traindata.rolling(window=10):\n",
    "    print(window.shape)"
   ]
  },
  {
   "cell_type": "code",
   "execution_count": 31,
   "id": "8fe0490c",
   "metadata": {},
   "outputs": [],
   "source": [
    "#After dividing the training, evaluation and testing data\n",
    "class WindowGenerator():\n",
    "    def __init__(self, input_width, label_width, shift,\n",
    "                   train_df=None, val_df=None, test_df=None,\n",
    "                   label_columns=None):\n",
    "\n",
    "        # Store the raw data.\n",
    "        self.train_df = train_df\n",
    "        self.val_df = val_df\n",
    "        self.test_df = test_df\n",
    "\n",
    "        # Work out the label column indices.\n",
    "        self.label_columns = label_columns\n",
    "        if label_columns is not None:\n",
    "            self.label_columns_indices = {name: i for i, name in\n",
    "                                        enumerate(label_columns)}\n",
    "        self.column_indices = {name: i for i, name in\n",
    "                               enumerate(train_df.columns)}\n",
    "\n",
    "\n",
    "        # Work out the window parameters.\n",
    "        self.input_width = input_width\n",
    "        self.label_width = label_width\n",
    "        self.shift = shift\n",
    "\n",
    "        self.total_window_size = input_width + shift\n",
    "\n",
    "        self.input_slice = slice(0, input_width)\n",
    "        self.input_indices = np.arange(self.total_window_size)[self.input_slice]\n",
    "\n",
    "        self.label_start = self.total_window_size - self.label_width\n",
    "        self.labels_slice = slice(self.label_start, None)\n",
    "        self.label_indices = np.arange(self.total_window_size)[self.labels_slice]\n",
    "\n",
    "    def __repr__(self):\n",
    "        return '\\n'.join([\n",
    "            f'Total window size: {self.total_window_size}',\n",
    "            f'Input indices: {self.input_indices}',\n",
    "            f'Label indices: {self.label_indices}',\n",
    "            f'Label column name(s): {self.label_columns}'])\n",
    "\n",
    "    def split_window(self, features):\n",
    "        inputs = features[:, self.input_slice, :]\n",
    "        labels = features[:, self.labels_slice, :]\n",
    "        if self.label_columns is not None:\n",
    "            labels = tf.stack(\n",
    "                [labels[:, :, self.column_indices[name]] for name in self.label_columns],\n",
    "                axis=-1)\n",
    "\n",
    "        # Slicing doesn't preserve static shape information, so set the shapes\n",
    "        # manually. This way the `tf.data.Datasets` are easier to inspect.\n",
    "        inputs.set_shape([None, self.input_width, None])\n",
    "        labels.set_shape([None, self.label_width, None])\n",
    "\n",
    "        return inputs, labels"
   ]
  },
  {
   "cell_type": "code",
   "execution_count": 32,
   "id": "8163da2b",
   "metadata": {},
   "outputs": [
    {
     "data": {
      "text/plain": [
       "Total window size: 6\n",
       "Input indices: [0 1 2 3]\n",
       "Label indices: [5]\n",
       "Label column name(s): ['Connected']"
      ]
     },
     "execution_count": 32,
     "metadata": {},
     "output_type": "execute_result"
    }
   ],
   "source": [
    "wtest = WindowGenerator(input_width = 4, label_width = 1, shift = 2,\n",
    "                   train_df=traindata, val_df=testdata, test_df=testdata,\n",
    "                   label_columns=['Connected'])\n",
    "\n",
    "wtest\n",
    "example_inputs, example_labels = w2.split_window(example_window)\n"
   ]
  }
 ],
 "metadata": {
  "kernelspec": {
   "display_name": "Python 3 (ipykernel)",
   "language": "python",
   "name": "python3"
  },
  "language_info": {
   "codemirror_mode": {
    "name": "ipython",
    "version": 3
   },
   "file_extension": ".py",
   "mimetype": "text/x-python",
   "name": "python",
   "nbconvert_exporter": "python",
   "pygments_lexer": "ipython3",
   "version": "3.10.4"
  }
 },
 "nbformat": 4,
 "nbformat_minor": 5
}
